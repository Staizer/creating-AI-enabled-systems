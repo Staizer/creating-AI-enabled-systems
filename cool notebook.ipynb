{
 "cells": [
  {
   "cell_type": "markdown",
   "id": "2ccfd227",
   "metadata": {},
   "source": [
    "Cool Notebook"
   ]
  },
  {
   "cell_type": "code",
   "execution_count": 2,
   "id": "2f6dd408",
   "metadata": {},
   "outputs": [
    {
     "name": "stdout",
     "output_type": "stream",
     "text": [
      "hello from world\n"
     ]
    }
   ],
   "source": [
    "print('hello from world')"
   ]
  }
 ],
 "metadata": {
  "kernelspec": {
   "display_name": "Python 3 (ipykernel)",
   "language": "python",
   "name": "python3"
  },
  "language_info": {
   "codemirror_mode": {
    "name": "ipython",
    "version": 3
   },
   "file_extension": ".py",
   "mimetype": "text/x-python",
   "name": "python",
   "nbconvert_exporter": "python",
   "pygments_lexer": "ipython3",
   "version": "3.8.10"
  }
 },
 "nbformat": 4,
 "nbformat_minor": 5
}
