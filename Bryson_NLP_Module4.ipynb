{
 "cells": [
  {
   "cell_type": "markdown",
   "id": "78fc8234",
   "metadata": {},
   "source": [
    "This program takes in text from a csv file, selects only the reviews from the summary column, then tokenizes, stems, and lemmatizes it."
   ]
  },
  {
   "cell_type": "code",
   "execution_count": null,
   "id": "0f226bd9",
   "metadata": {},
   "outputs": [],
   "source": [
    "import nltk\n",
    "from nltk.stem.porter import PorterStemmer as PS\n",
    "from nltk.stem.lancaster import LancasterStemmer as LS\n",
    "from nltk.stem.snowball import SnowballStemmer as SS\n",
    "from nltk.stem.wordnet import WordNetLemmatizer as WNL\n",
    "import pandas as pd"
   ]
  },
  {
   "cell_type": "markdown",
   "id": "f83eb914",
   "metadata": {},
   "source": [
    "This function imports the csv and identifies the column titles. It takes the values from the summary column and turns it into a string\n",
    "then it generates a word, casual, and sentence token from this string"
   ]
  },
  {
   "cell_type": "code",
   "execution_count": null,
   "id": "17b1b6c2",
   "metadata": {},
   "outputs": [],
   "source": [
    "def get_tokens():\n",
    "  col_list = ['reviewerID', 'asin', 'reviewerName',\n",
    "            'helpful', 'reviewText', 'overall', 'summary', \n",
    "            'unixReviewTime', 'reviewTime']\n",
    "\n",
    "  df = pd.read_csv('Musical_instruments_reviews.csv', usecols = col_list)\n",
    "\n",
    "  stem = df['summary']\n",
    "  word_list = 0\n",
    "\n",
    "  for i in range(len(stem)):\n",
    "    if word_list == 0:\n",
    "      word_list = stem[i]\n",
    "    else:\n",
    "      word_list = word_list + ' ' + stem[i]\n",
    "\n",
    "  wtokens = nltk.word_tokenize(word_list)\n",
    "  ctokens = nltk.casual_tokenize(word_list)\n",
    "  stokens = nltk.sent_tokenize(word_list)\n",
    "  return wtokens, ctokens, stokens"
   ]
  },
  {
   "cell_type": "markdown",
   "id": "5ec9ad9d",
   "metadata": {},
   "source": [
    "Takes word tokens and creates different stem versions of that list"
   ]
  },
  {
   "cell_type": "code",
   "execution_count": null,
   "id": "804242e4",
   "metadata": {},
   "outputs": [],
   "source": [
    "def do_stemming(filtered):\n",
    "  stemmed_PS = []\n",
    "  stemmed_LS = []\n",
    "  stemmed_SS = []\n",
    "  for f in filtered:\n",
    "    stemmed_PS.append(PS().stem(f))\n",
    "    stemmed_LS.append(LS().stem(f))\n",
    "    stemmed_SS.append(SS('english').stem(f))\n",
    "  return stemmed_PS, stemmed_LS, stemmed_SS"
   ]
  },
  {
   "cell_type": "markdown",
   "id": "70234c72",
   "metadata": {},
   "source": [
    "Takes word tokens and creates lemmas from it"
   ]
  },
  {
   "cell_type": "code",
   "execution_count": null,
   "id": "0ee669c9",
   "metadata": {},
   "outputs": [],
   "source": [
    "def do_lemma(filtered):\n",
    "  lemmize = []\n",
    "  for f in filtered:\n",
    "    lemmize.append(WNL().lemmatize(f, 'v'))\n",
    "  return lemmize"
   ]
  },
  {
   "cell_type": "markdown",
   "id": "360eb612",
   "metadata": {},
   "source": [
    "Implements code"
   ]
  },
  {
   "cell_type": "code",
   "execution_count": null,
   "id": "b6a8bfab",
   "metadata": {},
   "outputs": [],
   "source": [
    "if __name__ == '__main__':\n",
    "  wtokens, ctokens, stokens = get_tokens()\n",
    "  print('word tokens = ', wtokens)"
   ]
  },
  {
   "cell_type": "code",
   "execution_count": null,
   "id": "c4624d90",
   "metadata": {},
   "outputs": [],
   "source": [
    "  print('casual tokens = ', ctokens)"
   ]
  },
  {
   "cell_type": "code",
   "execution_count": null,
   "id": "61e11f12",
   "metadata": {},
   "outputs": [],
   "source": [
    "  print('sentence tokens = ', stokens)"
   ]
  },
  {
   "cell_type": "code",
   "execution_count": null,
   "id": "ff1037b6",
   "metadata": {},
   "outputs": [],
   "source": [
    "  stemmed_PS, stemmed_LS, stemmed_SS = do_stemming(wtokens)\n",
    "  lem_tokens = do_lemma(wtokens)\n",
    "  result_stem_PS = dict(zip(wtokens,stemmed_PS))\n",
    "  result_stem_LS = dict(zip(wtokens,stemmed_LS))\n",
    "  result_stem_SS = dict(zip(wtokens,stemmed_SS))\n",
    "  print('{tokens:stemmed} = ', result_stem_PS)"
   ]
  },
  {
   "cell_type": "code",
   "execution_count": null,
   "id": "41aec11c",
   "metadata": {},
   "outputs": [],
   "source": [
    "  print('{tokens:stemmed} = ', result_stem_LS)"
   ]
  },
  {
   "cell_type": "code",
   "execution_count": null,
   "id": "294a60d3",
   "metadata": {},
   "outputs": [],
   "source": [
    "  print('{tokens:stemmed} = ', result_stem_SS)"
   ]
  },
  {
   "cell_type": "code",
   "execution_count": null,
   "id": "8de5aeed",
   "metadata": {},
   "outputs": [],
   "source": [
    "  result_lem = dict(zip(wtokens,lem_tokens))\n",
    "  print('{tokens:lemmas} = ', result_lem)"
   ]
  }
 ],
 "metadata": {
  "kernelspec": {
   "display_name": "Python 3 (ipykernel)",
   "language": "python",
   "name": "python3"
  },
  "language_info": {
   "codemirror_mode": {
    "name": "ipython",
    "version": 3
   },
   "file_extension": ".py",
   "mimetype": "text/x-python",
   "name": "python",
   "nbconvert_exporter": "python",
   "pygments_lexer": "ipython3",
   "version": "3.8.10"
  }
 },
 "nbformat": 4,
 "nbformat_minor": 5
}
